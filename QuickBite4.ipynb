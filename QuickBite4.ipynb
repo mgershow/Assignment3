{
  "nbformat": 4,
  "nbformat_minor": 0,
  "metadata": {
    "colab": {
      "provenance": [],
      "authorship_tag": "ABX9TyP092MVv4C3lHS0myyzaDwd",
      "include_colab_link": true
    },
    "kernelspec": {
      "name": "python3",
      "display_name": "Python 3"
    },
    "language_info": {
      "name": "python"
    }
  },
  "cells": [
    {
      "cell_type": "markdown",
      "metadata": {
        "id": "view-in-github",
        "colab_type": "text"
      },
      "source": [
        "<a href=\"https://colab.research.google.com/github/mgershow/Assignment3/blob/main/QuickBite4.ipynb\" target=\"_parent\"><img src=\"https://colab.research.google.com/assets/colab-badge.svg\" alt=\"Open In Colab\"/></a>"
      ]
    },
    {
      "cell_type": "code",
      "execution_count": 1,
      "metadata": {
        "id": "uHva6_S2b8E0"
      },
      "outputs": [],
      "source": [
        "import numpy as np\n",
        "import matplotlib.pyplot as plt"
      ]
    },
    {
      "cell_type": "markdown",
      "source": [
        "Please solve the problem using logical (also called boolean) indexing. See 3.3.4 in the pine manual https://www.taylorfrancis.com/chapters/mono/10.1201/9780429506413-3/strings-lists-arrays-dictionaries-david-pine\n",
        "\n",
        "There are 4 lines of code to write total. \n"
      ],
      "metadata": {
        "id": "X4h4GRfRyjPT"
      }
    },
    {
      "cell_type": "code",
      "source": [
        "y = np.array((1,1,2,3,5,8,13,21,34,55,89))\n",
        "x = np.arange(len(y))\n",
        "\n",
        "#1. plot y vs x as a blue line\n",
        "\n",
        "#2. find ye defined as the even elements of y \n",
        "#   i. you must use boolean/logical indexing\n",
        "#   ii. you can only write one line of code and your solution must work for any array y, not just the one above\n",
        "#   iii. to be clear: y[np.array((2,5,8))] is not an answer, nor is [y[i] for i in (2,5,8)] or any variation like that \n",
        "#   iv. hint: y is even if y%2==0\n",
        "#3. find xe defined as x[i] where y[i] is even\n",
        "#   as above you can only write one line of code and your answer must work for any arrays x,y of the same length\n",
        "\n",
        "#4. plot ye vs xe on the same axes as red circles"
      ],
      "metadata": {
        "colab": {
          "base_uri": "https://localhost:8080/",
          "height": 282
        },
        "id": "T8upZscWcDZw",
        "outputId": "3b1eb58c-4b33-4281-f0cf-5d43bc68da68"
      },
      "execution_count": 15,
      "outputs": [
        {
          "output_type": "execute_result",
          "data": {
            "text/plain": [
              "[<matplotlib.lines.Line2D at 0x7f2773fb5610>]"
            ]
          },
          "metadata": {},
          "execution_count": 15
        },
        {
          "output_type": "display_data",
          "data": {
            "text/plain": [
              "<Figure size 432x288 with 1 Axes>"
            ],
            "image/png": "[encoded data removed]"
          },
          "metadata": {
            "needs_background": "light"
          }
        }
      ]
    },
    {
      "cell_type": "markdown",
      "source": [
        "\n",
        "If you don't hear a parrot screaming \"8\" in your head when you see the fibonnaci sequence, it's because you haven't watched this episode of mathnet:\n",
        "https://www.youtube.com/watch?v=UW5tbmwVj3g\n"
      ],
      "metadata": {
        "id": "XJntt6ck2v-K"
      }
    }
  ]
}