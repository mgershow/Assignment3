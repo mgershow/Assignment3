{
  "nbformat": 4,
  "nbformat_minor": 0,
  "metadata": {
    "colab": {
      "name": "Assignment2",
      "provenance": [],
      "collapsed_sections": [],
      "include_colab_link": true
    },
    "kernelspec": {
      "name": "python3",
      "display_name": "Python 3"
    },
    "language_info": {
      "name": "python"
    }
  },
  "cells": [
    {
      "cell_type": "markdown",
      "metadata": {
        "id": "view-in-github",
        "colab_type": "text"
      },
      "source": [
        "<a href=\"https://colab.research.google.com/github/NYUExperimentalPhysics1-2021/Assignment2/blob/main/Assignment2.ipynb\" target=\"_parent\"><img src=\"https://colab.research.google.com/assets/colab-badge.svg\" alt=\"Open In Colab\"/></a>"
      ]
    },
    {
      "cell_type": "markdown",
      "metadata": {
        "id": "vAQZLh6lDagH"
      },
      "source": [
        "#[PyMan 0.9.31 Introduction to Python for Science](https://physics.nyu.edu/pine/pymanual/html/pymanMaster.html)\n",
        "\n",
        "###The following exercises correspond to chapter [3: Strings, Lists, Arrays, and Dictionaries](https://physics.nyu.edu/pine/pymanual/html/chap3/chap3_arrays.html)"
      ]
    },
    {
      "cell_type": "code",
      "metadata": {
        "id": "9narVfFTwQ_M"
      },
      "source": [
        "##RUN THIS CODE BLOCK FIRST - it brings in functions like sin, cos, log, ... \n",
        "#in the future, we'll do things slightly differently to make your code more robust and portable...\n",
        "from numpy import *"
      ],
      "execution_count": null,
      "outputs": []
    },
    {
      "cell_type": "markdown",
      "metadata": {
        "id": "0rvmyQYoDm92"
      },
      "source": [
        "##3.6.1\n",
        "\n",
        "Create an array of 9 evenly spaced numbers going from 0 to 29 (inclusive) and give it a variable name $r$. Find the square of each element of the array (as simply as possible). Find twice the value of each element of the array in two different ways: ($i$) using addition and ($ii$) using multiplication. Use the print command to display the results."
      ]
    },
    {
      "cell_type": "code",
      "metadata": {
        "id": "2wHebld2DMyV"
      },
      "source": [
        "##USE THIS CODE BLOCK TO COMPLETE EXERCISE 3.6.1##"
      ],
      "execution_count": null,
      "outputs": []
    },
    {
      "cell_type": "markdown",
      "metadata": {
        "id": "LvObVXDiEVeH"
      },
      "source": [
        "##3.6.2\n",
        "\n",
        "Create the following arrays:\n",
        "1. an array of 100 elements all equal to $e$, the base of the natural logarithm;\n",
        "1. an array in 1-degree increments of all the angles in degrees from 0 to 360 degrees;\n",
        "1. an array in 1-degree increments of all the angles in radians from 0 to 360 degrees;\n",
        "1. an array from 12 to 17, not including 17, in 0.2 increments;\n",
        "1. an array from 12 to 17, including 17, in 0.2 increments."
      ]
    },
    {
      "cell_type": "code",
      "metadata": {
        "id": "WNkLyTzHE2n9"
      },
      "source": [
        "##USE THIS CODE BLOCK TO COMPLETE EXERCISE 3.6.2##"
      ],
      "execution_count": null,
      "outputs": []
    },
    {
      "cell_type": "markdown",
      "metadata": {
        "id": "wEGz-9j0E5LS"
      },
      "source": [
        "##3.6.3\n",
        "\n",
        "The position of a ball at time $t$ dropped with zero initial velocity from a height $h_0$ is given by\n",
        "\n",
        "$y = h_0 - \\frac{1}{2} gt^2$\n",
        "\n",
        "where $g=9.8$ m/s$^2$. Suppose $h_0 = 10$ m. Find the sequence of times when the ball passes each half meter assuming the ball is dropped at $t=0$. Hint: Create a NumPy array for $y$ that goes from 10 to 0 in increments of -0.5 using the `arange` fucntion. Solving the above equation for $t$, we find that\n",
        "\n",
        "$t = \\sqrt{\\frac{2\\left(h_0 -y\\right)}{g}}$\n",
        "\n",
        "Using this equation and the array you created, find the sequence of times when the ball passes each half meter. Your code should yield the following results for the $y$ and $t$ arrays:\n",
        "\n",
        "```\n",
        "In [2]: y\n",
        "Out[2]: array([10. , 9.5, 9. , 8.5, 8. , 7.5, 7. , 6.5,\n",
        "                6. , 5.5, 5. , 4.5, 4. , 3.5, 3. , 2.5,\n",
        "                2. , 1.5, 1. , 0.5])\n",
        "\n",
        "In [3]: t\n",
        "Out[3]: array([ 0.        , 0.31943828, 0.45175395,\n",
        "                0.55328334, 0.63887656, 0.71428571,\n",
        "                0.7824608 , 0.84515425, 0.9035079 ,\n",
        "                0.95831485, 1.01015254, 1.05945693,\n",
        "                1.10656667, 1.15175111, 1.19522861,\n",
        "                1.23717915, 1.27775313, 1.31707778,\n",
        "                1.35526185, 1.39239919])\n",
        "```\n"
      ]
    },
    {
      "cell_type": "code",
      "metadata": {
        "id": "r9_4-QanqImi"
      },
      "source": [
        "##USE THIS CODE BLOCK TO COMPLETE EXERCISE 3.6.3##"
      ],
      "execution_count": null,
      "outputs": []
    },
    {
      "cell_type": "markdown",
      "metadata": {
        "id": "mydPPWNGqMLi"
      },
      "source": [
        "##3.6.4\n",
        "\n",
        "Recalling that the average velocity over an interval $\\Delta t$ is defined as $\\bar{v}=\\Delta y/ \\Delta t$, find the average velocity for each time interval in the previous problem using NumPy arrays. Keep in mind that the number of time intervals is one less than the number of times. Hint: What are the arrays `y[1:20]` and `y[0:19]`? What does the array `y[1:20]-y[0:19]` represent? (Try printing out the two arrays from the IPython shell.) Using this last array and a similar one involving time, find the array of average velocities. Bonus: Can you think of a more elegant way of representing `y[1:20]-y[0:19]` that does not make explicit reference to the number of elements in the `y` array--one that would work for any length array?\n",
        "\n",
        "You should get the following answer for the array of velocities:\n",
        "\n",
        "```\n",
        "In [5]: v\n",
        "Out[5]: array([-1.56524758,  -3.77884195,  -4.9246827 ,\n",
        "               -5.84158351,  -6.63049517,  -7.3340579 ,\n",
        "               -7.97531375,  -8.56844457,  -9.12293148,\n",
        "               -9.64549022,  -10.14108641, -10.61351563,\n",
        "               -11.06575711, -11.50020061, -11.91879801,\n",
        "               -12.32316816, -12.71467146, -13.09446421,\n",
        "               -13.46353913])\n",
        "```\n"
      ]
    },
    {
      "cell_type": "code",
      "metadata": {
        "id": "G9HA1ONprik6"
      },
      "source": [
        "##USE THIS CODE BLOCK TO COMPLETE EXERCISE 3.6.4##"
      ],
      "execution_count": null,
      "outputs": []
    }
  ]
}